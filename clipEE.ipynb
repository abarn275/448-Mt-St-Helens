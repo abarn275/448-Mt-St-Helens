{
 "cells": [
  {
   "cell_type": "code",
   "execution_count": 6,
   "metadata": {},
   "outputs": [],
   "source": [
    "import numpy\n",
    "from pathlib  import Path\n",
    "from matplotlib import pyplot as plt\n",
    "import numpy as np\n",
    "from copy import copy\n",
    "import rioxarray\n",
    "import xarray\n",
    "import a301_lib\n",
    "\n",
    "import cartopy.crs as ccrs\n",
    "import cartopy\n",
    "from pyresample.utils.cartopy import Projection\n",
    "\n",
    "from affine import Affine\n",
    "from rioxarray.rioxarray import affine_to_coords"
   ]
  },
  {
   "cell_type": "code",
   "execution_count": 7,
   "metadata": {},
   "outputs": [
    {
     "data": {
      "text/plain": [
       "'1984-05-16_red'"
      ]
     },
     "execution_count": 7,
     "metadata": {},
     "output_type": "execute_result"
    }
   ],
   "source": [
    "nir_dir = a301_lib.sat_data / \"ajb/landsat7/nir\"\n",
    "nir_files = sorted(list(nir_dir.glob(\"*tiff\")))\n",
    "red_dir = a301_lib.sat_data / \"ajb/landsat7/red\"\n",
    "red_files = sorted(list(red_dir.glob(\"*tiff\")))\n",
    "str(red_files[0])[-19:-5]"
   ]
  },
  {
   "cell_type": "code",
   "execution_count": 8,
   "metadata": {},
   "outputs": [],
   "source": [
    "def clip_ee_to_StHelens(file_list,band_name):\n",
    "    for file in file_list:\n",
    "\n",
    "        the_band = rioxarray.open_rasterio(file,masked=True) \n",
    "\n",
    "        scaled_band = the_band*the_band.scale_factor\n",
    "        masked_band = scaled_band\n",
    "        cartopy_crs = Projection(the_band.rio.crs, the_band.rio.bounds())\n",
    "\n",
    "        ana_lon, ana_lat = -122.223611, 46.257066 #St Helens analysis region\n",
    "        con_lat, con_lon = 46.190630, -122.286143 #St Helens control region\n",
    "        ana_x, ana_y = cartopy_crs.transform_point(ana_lon,ana_lat,ccrs.Geodetic())\n",
    "        con_x, con_y = cartopy_crs.transform_point(con_lon,con_lat,ccrs.Geodetic())\n",
    "\n",
    "        #make a 2 km x 2 km box around each point\n",
    "\n",
    "        ana_ll_x = ana_x - 2000\n",
    "        ana_ll_y = ana_y - 2000\n",
    "        ana_ur_x = ana_x + 2000\n",
    "        ana_ur_y = ana_y + 2000\n",
    "\n",
    "        con_ll_x = con_x - 2000\n",
    "        con_ll_y = con_y - 2000\n",
    "        con_ur_x = con_x + 2000\n",
    "        con_ur_y = con_y + 2000\n",
    "        \n",
    "        ana_bounding_box = ana_ll_x, ana_ll_y, ana_ur_x, ana_ur_y\n",
    "        con_bounding_box = con_ll_x, con_ll_y, con_ur_x, con_ur_y\n",
    "\n",
    "        ana = masked_band.rio.clip_box(*ana_bounding_box)\n",
    "        con = masked_band.rio.clip_box(*con_bounding_box)\n",
    "\n",
    "        orig = the_band.rio.transform()\n",
    "        a,b,d,e = orig.a, orig.b, orig.d, orig.e\n",
    "        c = ana_ll_x  # upper left x\n",
    "        f = ana_ur_y  # uper left y\n",
    "\n",
    "        ana_new_transform = Affine(a,b,c,d,e,f)\n",
    "        con_new_transform = Affine(a,b,c,d,e,f)\n",
    "\n",
    "        ana_band, ana_height, ana_width = ana.data.shape\n",
    "        ana_coords = affine_to_coords(ana_new_transform,ana_width,ana_height)\n",
    "\n",
    "        con_band, con_height, con_width = con.data.shape\n",
    "        con_coords = affine_to_coords(con_new_transform,con_width,con_height)\n",
    "\n",
    "        ana_clipped_ds=xarray.DataArray(ana.data,coords=ana_coords,\n",
    "                                       dims=ana.dims,\n",
    "                                       attrs=the_band.attrs)\n",
    "        \n",
    "        con_clipped_ds=xarray.DataArray(con.data,coords=con_coords,\n",
    "                                        dims=con.dims,\n",
    "                                        attrs=the_band.attrs)\n",
    "\n",
    "        ana_clipped_ds.rio.write_crs(the_band.rio.crs, inplace=True)\n",
    "        ana_clipped_ds.rio.write_transform(ana_new_transform, inplace=True)\n",
    "\n",
    "        con_clipped_ds.rio.write_crs(the_band.rio.crs, inplace=True)\n",
    "        con_clipped_ds.rio.write_transform(con_new_transform, inplace=True)\n",
    "\n",
    "        file_name = str(file)[-19:-5]\n",
    "        ana_outfile = a301_lib.sat_data / f\"ajb/landsatee/clipped/ana/{band_name}/ana_clipped_{file_name}.tiff\"\n",
    "        con_outfile = a301_lib.sat_data / f\"ajb/landsatee/clipped/con/{band_name}/con_clipped_{file_name}.tiff\"\n",
    "\n",
    "        ana_clipped_ds.rio.to_raster(ana_outfile)\n",
    "        con_clipped_ds.rio.to_raster(con_outfile)\n"
   ]
  },
  {
   "cell_type": "code",
   "execution_count": 9,
   "metadata": {},
   "outputs": [],
   "source": [
    "clip_ee_to_StHelens(nir_files,\"nir\")\n",
    "clip_ee_to_StHelens(red_files,\"red\")"
   ]
  },
  {
   "cell_type": "code",
   "execution_count": null,
   "metadata": {},
   "outputs": [],
   "source": []
  }
 ],
 "metadata": {
  "kernelspec": {
   "display_name": "a301",
   "language": "python",
   "name": "python3"
  },
  "language_info": {
   "codemirror_mode": {
    "name": "ipython",
    "version": 3
   },
   "file_extension": ".py",
   "mimetype": "text/x-python",
   "name": "python",
   "nbconvert_exporter": "python",
   "pygments_lexer": "ipython3",
   "version": "3.10.8"
  }
 },
 "nbformat": 4,
 "nbformat_minor": 2
}
